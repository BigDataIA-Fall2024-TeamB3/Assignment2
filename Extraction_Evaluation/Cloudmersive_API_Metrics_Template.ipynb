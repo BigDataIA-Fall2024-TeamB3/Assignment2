{
 "cells": [
  {
   "cell_type": "markdown",
   "id": "b5f82643",
   "metadata": {},
   "source": [
    "## Import Required Libraries"
   ]
  },
  {
   "cell_type": "code",
   "execution_count": 3,
   "id": "9ca17c40",
   "metadata": {},
   "outputs": [],
   "source": [
    "# %%\n",
    "import os\n",
    "import tempfile\n",
    "import cloudmersive_convert_api_client\n",
    "import cloudmersive_ocr_api_client\n",
    "from cloudmersive_convert_api_client.rest import ApiException as ConvertApiException\n",
    "from cloudmersive_ocr_api_client.rest import ApiException as OcrApiException\n",
    "from google.cloud import storage\n",
    "from dotenv import load_dotenv\n",
    "import time\n",
    "import logging\n",
    "\n"
   ]
  },
  {
   "cell_type": "markdown",
   "id": "4d5d23c0",
   "metadata": {},
   "source": [
    "## Load Environment Variables and Initialize Clients"
   ]
  },
  {
   "cell_type": "code",
   "execution_count": 4,
   "id": "b3335516",
   "metadata": {},
   "outputs": [],
   "source": [
    "# %%\n",
    "# Load environment variables from .env file\n",
    "load_dotenv()\n",
    "\n",
    "# Set your Cloudmersive API key and GCP credentials from the .env file\n",
    "cloudmersive_api_key = os.getenv(\"CLOUDMERSIVE_API_KEY\")\n",
    "gcp_credentials = os.getenv(\"GOOGLE_APPLICATION_CREDENTIALS\")\n",
    "\n",
    "# Ensure your GCP credentials are set as an environment variable\n",
    "os.environ[\"GOOGLE_APPLICATION_CREDENTIALS\"] = gcp_credentials\n",
    "\n",
    "# Initialize GCP storage client\n",
    "storage_client = storage.Client()\n",
    "\n",
    "# Configure Cloudmersive PDF Text Extraction API\n",
    "convert_configuration = cloudmersive_convert_api_client.Configuration()\n",
    "convert_configuration.api_key['Apikey'] = cloudmersive_api_key\n",
    "convert_api_instance = cloudmersive_convert_api_client.ConvertDocumentApi(\n",
    "    cloudmersive_convert_api_client.ApiClient(convert_configuration)\n",
    ")\n",
    "\n",
    "# Configure Cloudmersive OCR API\n",
    "ocr_configuration = cloudmersive_ocr_api_client.Configuration()\n",
    "ocr_configuration.api_key['Apikey'] = cloudmersive_api_key\n",
    "ocr_api_instance = cloudmersive_ocr_api_client.ImageOcrApi(\n",
    "    cloudmersive_ocr_api_client.ApiClient(ocr_configuration)\n",
    ")\n"
   ]
  },
  {
   "cell_type": "markdown",
   "id": "732ac91e",
   "metadata": {},
   "source": [
    "## Metrics Tracking Variables"
   ]
  },
  {
   "cell_type": "code",
   "execution_count": 5,
   "id": "567c1d24",
   "metadata": {},
   "outputs": [],
   "source": [
    "# %%\n",
    "# Metrics tracking variables\n",
    "total_files_processed = 0  # Tracks the number of PDF files processed\n",
    "total_pages_processed = 0  # Tracks the total number of images (pages) processed across all files\n",
    "total_errors = 0  # Tracks the number of errors encountered during processing\n",
    "start_time = time.time()  # Records the start time for calculating total processing time"
   ]
  },
  {
   "cell_type": "markdown",
   "id": "7caa2aa1",
   "metadata": {},
   "source": [
    "## Extract Text from PDF Using Cloudmersive API"
   ]
  },
  {
   "cell_type": "code",
   "execution_count": 6,
   "id": "62bcbc20",
   "metadata": {},
   "outputs": [],
   "source": [
    "# %%\n",
    "def extract_text_from_pdf_cloudmersive(pdf_bytes):\n",
    "    \"\"\"Extracts text from PDF using Cloudmersive API.\"\"\"\n",
    "    try:\n",
    "        # Create a temporary file from the PDF bytes\n",
    "        with tempfile.NamedTemporaryFile(delete=False, suffix=\".pdf\") as temp_pdf:\n",
    "            temp_pdf.write(pdf_bytes)\n",
    "            temp_pdf_path = temp_pdf.name\n",
    "\n",
    "        # Convert PDF to text using the file path\n",
    "        result = convert_api_instance.convert_document_pdf_to_txt(temp_pdf_path)\n",
    "\n",
    "        return result.text_result  # Extract the text result from the object\n",
    "    except ConvertApiException as e:\n",
    "        global total_errors\n",
    "        total_errors += 1  # Increment error count\n",
    "        print(f\"Exception when calling Cloudmersive API for PDF text extraction: {e}\\n\")\n",
    "        return None\n",
    "    finally:\n",
    "        # Clean up the temp file if it exists\n",
    "        if os.path.exists(temp_pdf_path):\n",
    "            os.remove(temp_pdf_path)\n"
   ]
  },
  {
   "cell_type": "markdown",
   "id": "57351fa0",
   "metadata": {},
   "source": [
    "## Extract Text from Images in PDF Using Cloudmersive OCR API\n"
   ]
  },
  {
   "cell_type": "code",
   "execution_count": 7,
   "id": "a0e4e896",
   "metadata": {},
   "outputs": [],
   "source": [
    "# %%\n",
    "def extract_text_from_images_in_pdf(pdf_bytes):\n",
    "    \"\"\"Extracts text from images in PDF using Cloudmersive OCR API.\"\"\"\n",
    "    try:\n",
    "        ocr_text = \"\"\n",
    "\n",
    "        # Create a temporary file from the PDF bytes\n",
    "        with tempfile.NamedTemporaryFile(delete=False, suffix=\".pdf\") as temp_pdf:\n",
    "            temp_pdf.write(pdf_bytes)\n",
    "            temp_pdf_path = temp_pdf.name\n",
    "\n",
    "        # Convert PDF pages to images\n",
    "        image_result = convert_api_instance.convert_document_pdf_to_png_array(temp_pdf_path)\n",
    "\n",
    "        # If there are images in the PDF\n",
    "        if hasattr(image_result, 'png_result'):\n",
    "            global total_pages_processed\n",
    "            total_pages_processed += len(image_result.png_result)  # Count each page as an image\n",
    "            for page_num, image_data in enumerate(image_result.png_result, start=1):\n",
    "                with tempfile.NamedTemporaryFile(delete=False, suffix=\".png\") as temp_image:\n",
    "                    temp_image.write(image_data)\n",
    "                    temp_image_path = temp_image.name\n",
    "\n",
    "                # Apply OCR on the image to extract text\n",
    "                ocr_response = ocr_api_instance.image_ocr_post(temp_image_path)\n",
    "                ocr_text += f\"\\n\\nPage {page_num} OCR Text:\\n{ocr_response.text_result}\"\n",
    "\n",
    "                # Remove the temporary image file\n",
    "                os.remove(temp_image_path)\n",
    "\n",
    "        return ocr_text\n",
    "    except (OcrApiException, ConvertApiException) as e:\n",
    "        global total_errors\n",
    "        total_errors += 1  # Increment error count\n",
    "        print(f\"Exception during OCR processing: {e}\")\n",
    "        return None\n",
    "    finally:\n",
    "        # Ensure temporary files are cleaned up\n",
    "        if os.path.exists(temp_pdf_path):\n",
    "            os.remove(temp_pdf_path)"
   ]
  },
  {
   "cell_type": "markdown",
   "id": "29c22de3",
   "metadata": {},
   "source": [
    "## Save Extracted Data to GCP"
   ]
  },
  {
   "cell_type": "code",
   "execution_count": 8,
   "id": "57e8def9",
   "metadata": {},
   "outputs": [],
   "source": [
    "# %%\n",
    "def save_extracted_data_to_gcp(bucket_name, folder_name, file_name, extracted_content):\n",
    "    \"\"\"Saves the extracted content as a .txt file to the specified GCP bucket.\"\"\"\n",
    "    bucket = storage_client.bucket(bucket_name)\n",
    "\n",
    "    # Remove '.pdf' extension and replace with '.txt'\n",
    "    txt_file_name = file_name.replace('.pdf', '.txt')\n",
    "\n",
    "    # Define the target folder (e.g., cloudmersive_API_extracted)\n",
    "    blob = bucket.blob(f\"{folder_name}/{txt_file_name}\")\n",
    "\n",
    "    # Upload the extracted content as a text file\n",
    "    blob.upload_from_string(extracted_content, content_type='text/plain')\n",
    "\n",
    "    print(f\"Extracted data saved to: {folder_name}/{txt_file_name} in bucket {bucket_name}\")\n"
   ]
  },
  {
   "cell_type": "markdown",
   "id": "c5a4c79e",
   "metadata": {},
   "source": [
    " ## Process PDFs Using Cloudmersive API"
   ]
  },
  {
   "cell_type": "code",
   "execution_count": 9,
   "id": "72fbd7ac",
   "metadata": {},
   "outputs": [],
   "source": [
    "# %%\n",
    "def process_pdfs_in_gcp_cloudmersive(bucket_name, source_folder, target_folder):\n",
    "    \"\"\"Processes all PDFs in the source folder, extracts content using Cloudmersive API.\"\"\"\n",
    "    global total_files_processed\n",
    "    bucket = storage_client.bucket(bucket_name)\n",
    "\n",
    "    # List all PDF files in the source folder\n",
    "    blobs = bucket.list_blobs(prefix=f\"{source_folder}/\")\n",
    "\n",
    "    for blob in blobs:\n",
    "        if blob.name.endswith('.pdf'):\n",
    "            file_name = os.path.basename(blob.name)\n",
    "            print(f\"Processing file: {file_name} using Cloudmersive API\")\n",
    "\n",
    "            # Download the PDF as bytes\n",
    "            pdf_bytes = blob.download_as_bytes()\n",
    "\n",
    "            # Increment file count\n",
    "            total_files_processed += 1\n",
    "\n",
    "            # Extract text content from the PDF using Cloudmersive API\n",
    "            extracted_text_content = extract_text_from_pdf_cloudmersive(pdf_bytes)\n",
    "\n",
    "            # Extract text from images in the PDF using OCR\n",
    "            image_text_content = extract_text_from_images_in_pdf(pdf_bytes)\n",
    "\n",
    "            # Combine all extracted content\n",
    "            full_extracted_content = f\"Text and Tables:\\n{extracted_text_content}\\n\\nText from Images:\\n{image_text_content}\"\n",
    "\n",
    "            # Save extracted content back to GCP in the target folder\n",
    "            save_extracted_data_to_gcp(bucket_name, target_folder, file_name, full_extracted_content)"
   ]
  },
  {
   "cell_type": "markdown",
   "id": "b351e32d",
   "metadata": {},
   "source": [
    "## Calculating Performance Metrics"
   ]
  },
  {
   "cell_type": "code",
   "execution_count": 10,
   "id": "3dd58c0a",
   "metadata": {},
   "outputs": [],
   "source": [
    "# %%\n",
    "def calculate_performance_metrics():\n",
    "    \"\"\"Calculates and prints performance metrics.\"\"\"\n",
    "    end_time = time.time()  # Capture the end time\n",
    "    total_time = end_time - start_time  # Calculate total time spent processing\n",
    "    latency = total_time / total_files_processed if total_files_processed > 0 else 0  # Average time per file\n",
    "    throughput = total_pages_processed / total_time if total_time > 0 else 0  # Pages processed per second\n",
    "    error_rate = total_errors / total_files_processed if total_files_processed > 0 else 0  # Percentage of files with errors\n",
    "\n",
    "    print(f\"Total files processed: {total_files_processed}\")\n",
    "    print(f\"Total errors: {total_errors}\")\n",
    "    print(f\"Total time: {total_time:.2f} seconds\")\n",
    "    print(f\"Latency: {latency:.2f} seconds per file\")\n",
    "    print(f\"Error rate: {error_rate:.2%}\")\n",
    "\n"
   ]
  },
  {
   "cell_type": "markdown",
   "id": "78239791",
   "metadata": {},
   "source": [
    "## Run Processing and Calculate Metrics"
   ]
  },
  {
   "cell_type": "code",
   "execution_count": 11,
   "id": "4f08b521",
   "metadata": {},
   "outputs": [
    {
     "name": "stdout",
     "output_type": "stream",
     "text": [
      "Processing file: 021a5339-744f-42b7-bd9b-9368b3efda7a.pdf using Cloudmersive API\n",
      "Extracted data saved to: cloudmersive_API_extracted/021a5339-744f-42b7-bd9b-9368b3efda7a.txt in bucket gaia_files_pdf\n",
      "Processing file: 32f386b9-73ee-4455-b412-ddad508aa979.pdf using Cloudmersive API\n",
      "Extracted data saved to: cloudmersive_API_extracted/32f386b9-73ee-4455-b412-ddad508aa979.txt in bucket gaia_files_pdf\n",
      "Processing file: 366e2f2b-8632-4ef2-81eb-bc3877489217.pdf using Cloudmersive API\n",
      "Extracted data saved to: cloudmersive_API_extracted/366e2f2b-8632-4ef2-81eb-bc3877489217.txt in bucket gaia_files_pdf\n",
      "Processing file: 4044eab7-1282-42bd-a559-3bf3a4d5858e.pdf using Cloudmersive API\n",
      "Extracted data saved to: cloudmersive_API_extracted/4044eab7-1282-42bd-a559-3bf3a4d5858e.txt in bucket gaia_files_pdf\n",
      "Processing file: 634fca59-03b2-4cdf-9ce4-0205df22f256.pdf using Cloudmersive API\n",
      "Extracted data saved to: cloudmersive_API_extracted/634fca59-03b2-4cdf-9ce4-0205df22f256.txt in bucket gaia_files_pdf\n",
      "Processing file: 67e8878b-5cef-4375-804e-e6291fdbe78a.pdf using Cloudmersive API\n",
      "Extracted data saved to: cloudmersive_API_extracted/67e8878b-5cef-4375-804e-e6291fdbe78a.txt in bucket gaia_files_pdf\n",
      "Processing file: 680d7d77-c0c7-49c8-88fd-f8ec623645e9.pdf using Cloudmersive API\n",
      "Extracted data saved to: cloudmersive_API_extracted/680d7d77-c0c7-49c8-88fd-f8ec623645e9.txt in bucket gaia_files_pdf\n",
      "Processing file: 7c215d46-91c7-424e-9f22-37d43ab73ea6.pdf using Cloudmersive API\n",
      "Extracted data saved to: cloudmersive_API_extracted/7c215d46-91c7-424e-9f22-37d43ab73ea6.txt in bucket gaia_files_pdf\n",
      "Processing file: 8f697523-6988-4c4f-8d72-760a45681f68.pdf using Cloudmersive API\n",
      "Extracted data saved to: cloudmersive_API_extracted/8f697523-6988-4c4f-8d72-760a45681f68.txt in bucket gaia_files_pdf\n",
      "Processing file: b3654e47-4307-442c-a09c-945b33b913c6.pdf using Cloudmersive API\n",
      "Extracted data saved to: cloudmersive_API_extracted/b3654e47-4307-442c-a09c-945b33b913c6.txt in bucket gaia_files_pdf\n",
      "Processing file: be353748-74eb-4904-8f17-f180ce087f1a.pdf using Cloudmersive API\n",
      "Extracted data saved to: cloudmersive_API_extracted/be353748-74eb-4904-8f17-f180ce087f1a.txt in bucket gaia_files_pdf\n",
      "Processing file: c4456885-2f03-436f-8fe9-0b4ca6822cdb.pdf using Cloudmersive API\n",
      "Extracted data saved to: cloudmersive_API_extracted/c4456885-2f03-436f-8fe9-0b4ca6822cdb.txt in bucket gaia_files_pdf\n",
      "Processing file: e9a2c537-8232-4c3f-85b0-b52de6bcba99.pdf using Cloudmersive API\n",
      "Extracted data saved to: cloudmersive_API_extracted/e9a2c537-8232-4c3f-85b0-b52de6bcba99.txt in bucket gaia_files_pdf\n"
     ]
    }
   ],
   "source": [
    "# %%\n",
    "bucket_name = 'gaia_files_pdf'\n",
    "source_folder = 'gaia_pdfs'  # Single folder for PDFs to be processed\n",
    "target_folder = 'cloudmersive_API_extracted'  # New folder for extracted content\n",
    "\n",
    "# Process PDFs using Cloudmersive API and save extracted data in cloudmersive_API_extracted folder\n",
    "process_pdfs_in_gcp_cloudmersive(bucket_name, source_folder, target_folder)"
   ]
  },
  {
   "cell_type": "code",
   "execution_count": 12,
   "id": "66f20717",
   "metadata": {},
   "outputs": [
    {
     "name": "stdout",
     "output_type": "stream",
     "text": [
      "Total files processed: 13\n",
      "Total errors: 0\n",
      "Total time: 283.47 seconds\n",
      "Latency: 21.81 seconds per file\n",
      "Error rate: 0.00%\n"
     ]
    }
   ],
   "source": [
    "# Calculate and display performance metrics\n",
    "calculate_performance_metrics()"
   ]
  },
  {
   "cell_type": "markdown",
   "id": "acfa668b",
   "metadata": {},
   "source": [
    "Explanation of Metrics:\n",
    "Latency: Average time (in seconds) to process each file. Calculated as total_time / total_files_processed.\n",
    "Throughput: The number of pages processed per second. Calculated as total_pages_processed / total_time.\n",
    "Error Rate: The percentage of files that encountered errors during processing. Calculated as total_errors / total_files_processed.\n",
    "Total Time: The overall time taken to process all files."
   ]
  }
 ],
 "metadata": {
  "kernelspec": {
   "display_name": "venv",
   "language": "python",
   "name": "python3"
  },
  "language_info": {
   "codemirror_mode": {
    "name": "ipython",
    "version": 3
   },
   "file_extension": ".py",
   "mimetype": "text/x-python",
   "name": "python",
   "nbconvert_exporter": "python",
   "pygments_lexer": "ipython3",
   "version": "3.12.5"
  }
 },
 "nbformat": 4,
 "nbformat_minor": 5
}
